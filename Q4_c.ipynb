{
 "cells": [
  {
   "cell_type": "markdown",
   "id": "687c87e7",
   "metadata": {},
   "source": [
    "Load Seaborn's Tips dataset and train a machine learning model (Decision Tree or any other suitable method) to predict whether the following tip made by a smoker or not.\n",
    "\n",
    "Further, you need to evaluate the accuracy of your model using suitable methods. You may use encoders where necessary.\n",
    "\n",
    "total_bill = 25.50, tip = 6.00, sex = Male, day = Thur, time = Dinner, size = 3"
   ]
  },
  {
   "cell_type": "code",
   "execution_count": 1,
   "id": "e08fef9c",
   "metadata": {},
   "outputs": [],
   "source": [
    "import seaborn as sns\n",
    "import pandas as pd\n",
    "from sklearn.model_selection import train_test_split\n",
    "from sklearn.tree import DecisionTreeClassifier\n",
    "from sklearn.preprocessing import LabelEncoder\n",
    "from sklearn.metrics import accuracy_score"
   ]
  },
  {
   "cell_type": "code",
   "execution_count": 2,
   "id": "7fa3e990",
   "metadata": {},
   "outputs": [],
   "source": [
    "# Load the Tips dataset from Seaborn\n",
    "tips_df = sns.load_dataset(\"tips\")"
   ]
  },
  {
   "cell_type": "code",
   "execution_count": 3,
   "id": "35efbdc6",
   "metadata": {},
   "outputs": [],
   "source": [
    "# Encode categorical variables\n",
    "label_encoder = LabelEncoder()\n",
    "tips_df['sex'] = label_encoder.fit_transform(tips_df['sex'])\n",
    "tips_df['day'] = label_encoder.fit_transform(tips_df['day'])\n",
    "tips_df['time'] = label_encoder.fit_transform(tips_df['time'])"
   ]
  },
  {
   "cell_type": "code",
   "execution_count": 4,
   "id": "f6363df4",
   "metadata": {},
   "outputs": [],
   "source": [
    "# Define the feature columns and target variable\n",
    "X = tips_df[['total_bill', 'tip', 'sex', 'day', 'time', 'size']]\n",
    "y = tips_df['smoker']\n"
   ]
  },
  {
   "cell_type": "code",
   "execution_count": null,
   "id": "947e72bf",
   "metadata": {},
   "outputs": [],
   "source": []
  }
 ],
 "metadata": {
  "kernelspec": {
   "display_name": "Python 3 (ipykernel)",
   "language": "python",
   "name": "python3"
  },
  "language_info": {
   "codemirror_mode": {
    "name": "ipython",
    "version": 3
   },
   "file_extension": ".py",
   "mimetype": "text/x-python",
   "name": "python",
   "nbconvert_exporter": "python",
   "pygments_lexer": "ipython3",
   "version": "3.9.7"
  }
 },
 "nbformat": 4,
 "nbformat_minor": 5
}
