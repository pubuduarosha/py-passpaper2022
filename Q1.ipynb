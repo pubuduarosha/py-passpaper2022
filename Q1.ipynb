{
 "cells": [
  {
   "cell_type": "raw",
   "id": "22c0f3e4",
   "metadata": {},
   "source": [
    "(a) Write a Python code segment to find the middle value of three integers. You may hardcode these values to variables. However, your code should be able to find the middle value regardless of their order. Further, you should not use any built-in function in your code."
   ]
  },
  {
   "cell_type": "code",
   "execution_count": 1,
   "id": "c47dff71",
   "metadata": {},
   "outputs": [],
   "source": [
    "#Hardcode the three inregers \n",
    "a, b, c = 10, 20, 30"
   ]
  },
  {
   "cell_type": "code",
   "execution_count": 2,
   "id": "18239256",
   "metadata": {},
   "outputs": [
    {
     "name": "stdout",
     "output_type": "stream",
     "text": [
      "The middle value is:  20\n"
     ]
    }
   ],
   "source": [
    "#Find the middle value\n",
    "if (a >= b >= c) or (c >= b >= a):\n",
    "    middle = b\n",
    "elif (b >= a >= c) or (c >= a >= c):\n",
    "    middle = a\n",
    "else:\n",
    "    middle = c\n",
    "    \n",
    "print(\"The middle value is: \", middle)"
   ]
  },
  {
   "cell_type": "code",
   "execution_count": null,
   "id": "84d44475",
   "metadata": {},
   "outputs": [],
   "source": []
  },
  {
   "cell_type": "raw",
   "id": "552036ae",
   "metadata": {},
   "source": [
    "(b) Write a Python lambda function to find and return the factorial value of a given integer using recursion. Do not use any built-in function in your code. Moreover, find and print the factorial value of 5 using your lambda function. The definition of the factorial value\n",
    "is as follows.\n",
    "\n",
    "n! =n* (n- 1) *...*1"
   ]
  },
  {
   "cell_type": "code",
   "execution_count": 3,
   "id": "1219a43a",
   "metadata": {},
   "outputs": [],
   "source": [
    "factorial = lambda n: 1 if n == 0 else n * factorial(n-1)"
   ]
  },
  {
   "cell_type": "code",
   "execution_count": 4,
   "id": "44b6bcc3",
   "metadata": {},
   "outputs": [
    {
     "name": "stdout",
     "output_type": "stream",
     "text": [
      "The factorial of 5 is: 6\n"
     ]
    }
   ],
   "source": [
    "# Calculate and print the factorial of 5\n",
    "result = factorial(3)\n",
    "print(\"The factorial of 5 is:\", result)"
   ]
  },
  {
   "cell_type": "code",
   "execution_count": null,
   "id": "4f9f6b3a",
   "metadata": {},
   "outputs": [],
   "source": []
  },
  {
   "cell_type": "raw",
   "id": "683f800b",
   "metadata": {},
   "source": [
    "(C) Assume that you are given item details such as item name and unit price in a one data structure and transaction details such as item name and the quantity in another data structure as follows. Write necessary Python code segments to find and print the total price of the transaction.\n",
    "\n",
    "itemPrice = { 'pork':2545.25,'beef':2310.50, 'chicken':1450.75}\n",
    "Itemty ={ 'chicken': 5, 'beef': 3}"
   ]
  },
  {
   "cell_type": "code",
   "execution_count": 5,
   "id": "5c667828",
   "metadata": {},
   "outputs": [],
   "source": [
    "itemPrice = { 'pork':2545.25,'beef':2310.50, 'chicken':1450.75}\n",
    "itemQty ={ 'chicken': 5, 'beef': 3}"
   ]
  },
  {
   "cell_type": "code",
   "execution_count": 8,
   "id": "30d32a9a",
   "metadata": {},
   "outputs": [],
   "source": [
    "total_price = 0\n",
    "\n",
    "for item, qty in itemQty.items():\n",
    "    if item in itemPrice:\n",
    "        total_price += itemPrice[item] * qty"
   ]
  },
  {
   "cell_type": "code",
   "execution_count": 13,
   "id": "cc3e17a8",
   "metadata": {},
   "outputs": [
    {
     "name": "stdout",
     "output_type": "stream",
     "text": [
      "Total price of transaction: 14185.25 \n"
     ]
    }
   ],
   "source": [
    "print(\"Total price of transaction: {:.2f} \".format(total_price))"
   ]
  },
  {
   "cell_type": "code",
   "execution_count": null,
   "id": "7a8a70fb",
   "metadata": {},
   "outputs": [],
   "source": []
  }
 ],
 "metadata": {
  "kernelspec": {
   "display_name": "Python 3 (ipykernel)",
   "language": "python",
   "name": "python3"
  },
  "language_info": {
   "codemirror_mode": {
    "name": "ipython",
    "version": 3
   },
   "file_extension": ".py",
   "mimetype": "text/x-python",
   "name": "python",
   "nbconvert_exporter": "python",
   "pygments_lexer": "ipython3",
   "version": "3.9.7"
  }
 },
 "nbformat": 4,
 "nbformat_minor": 5
}
