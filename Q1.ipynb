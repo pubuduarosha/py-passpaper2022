{
 "cells": [
  {
   "cell_type": "raw",
   "id": "c21eea58",
   "metadata": {},
   "source": [
    "(a) Write a Python code segment to find the middle value of three integers. You may hardcode these values to variables. However, your code should be able to find the middle value regardless of their order. Further, you should not use any built-in function in your code."
   ]
  },
  {
   "cell_type": "code",
   "execution_count": 13,
   "id": "ad5f9776",
   "metadata": {},
   "outputs": [],
   "source": [
    "#Hardcode the three inregers \n",
    "a, b, c = 10, 20, 15"
   ]
  },
  {
   "cell_type": "code",
   "execution_count": 14,
   "id": "3402f79f",
   "metadata": {},
   "outputs": [
    {
     "name": "stdout",
     "output_type": "stream",
     "text": [
      "Middle valude is : 10\n"
     ]
    }
   ],
   "source": [
    "if a > b:\n",
    "    if b > c:\n",
    "        print(\"Middle valude is :\" , b)\n",
    "elif a > c:\n",
    "    if b > c:\n",
    "        print(\"Middle valude is :\" , c)\n",
    "elif a < b:\n",
    "    if a > c:\n",
    "        print(\"Middle valude is :\" , a)  "
   ]
  },
  {
   "cell_type": "code",
   "execution_count": null,
   "id": "69be5551",
   "metadata": {},
   "outputs": [],
   "source": [
    "#Find the middle value\n",
    "if (a >= b >= c) or (c >= b >= a):\n",
    "    middle = b\n",
    "elif (b >= a >= c) or (c >= a >= c):\n",
    "    middle = a"
   ]
  },
  {
   "cell_type": "code",
   "execution_count": null,
   "id": "d408ee88",
   "metadata": {},
   "outputs": [],
   "source": []
  }
 ],
 "metadata": {
  "kernelspec": {
   "display_name": "Python 3 (ipykernel)",
   "language": "python",
   "name": "python3"
  },
  "language_info": {
   "codemirror_mode": {
    "name": "ipython",
    "version": 3
   },
   "file_extension": ".py",
   "mimetype": "text/x-python",
   "name": "python",
   "nbconvert_exporter": "python",
   "pygments_lexer": "ipython3",
   "version": "3.9.7"
  }
 },
 "nbformat": 4,
 "nbformat_minor": 5
}
