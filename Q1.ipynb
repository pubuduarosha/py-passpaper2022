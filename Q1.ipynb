{
 "cells": [
  {
   "cell_type": "raw",
   "id": "34f072ed",
   "metadata": {},
   "source": [
    "(a) Write a Python code segment to find the middle value of three integers. You may hardcode these values to variables. However, your code should be able to find the middle value regardless of their order. Further, you should not use any built-in function in your code."
   ]
  },
  {
   "cell_type": "code",
   "execution_count": 16,
   "id": "a3a10d62",
   "metadata": {},
   "outputs": [],
   "source": [
    "#Hardcode the three inregers \n",
    "a, b, c = 10, 20, 30"
   ]
  },
  {
   "cell_type": "code",
   "execution_count": 17,
   "id": "662591a0",
   "metadata": {},
   "outputs": [
    {
     "name": "stdout",
     "output_type": "stream",
     "text": [
      "The middle value is:  20\n"
     ]
    }
   ],
   "source": [
    "#Find the middle value\n",
    "if (a >= b >= c) or (c >= b >= a):\n",
    "    middle = b\n",
    "elif (b >= a >= c) or (c >= a >= c):\n",
    "    middle = a\n",
    "else:\n",
    "    middle = c\n",
    "    \n",
    "print(\"The middle value is: \", middle)"
   ]
  },
  {
   "cell_type": "code",
   "execution_count": null,
   "id": "5895724f",
   "metadata": {},
   "outputs": [],
   "source": []
  },
  {
   "cell_type": "raw",
   "id": "850dc324",
   "metadata": {},
   "source": [
    "(b) Write a Python lambda function to find and return the factorial value of a given integer using recursion. Do not use any built-in function in your code. Moreover, find and print the factorial value of 5 using your lambda function. The definition of the factorial value\n",
    "is as follows.\n",
    "\n",
    "n! =n* (n- 1) *...*1"
   ]
  },
  {
   "cell_type": "code",
   "execution_count": 19,
   "id": "af155172",
   "metadata": {},
   "outputs": [],
   "source": [
    "factorial = lambda n: 1 if n == 0 else n * factorial(n-1)"
   ]
  },
  {
   "cell_type": "code",
   "execution_count": 21,
   "id": "bdbdade0",
   "metadata": {},
   "outputs": [
    {
     "name": "stdout",
     "output_type": "stream",
     "text": [
      "The factorial of 5 is: 6\n"
     ]
    }
   ],
   "source": [
    "# Calculate and print the factorial of 5\n",
    "result = factorial(3)\n",
    "print(\"The factorial of 5 is:\", result)"
   ]
  },
  {
   "cell_type": "code",
   "execution_count": null,
   "id": "0fbae0c0",
   "metadata": {},
   "outputs": [],
   "source": []
  }
 ],
 "metadata": {
  "kernelspec": {
   "display_name": "Python 3 (ipykernel)",
   "language": "python",
   "name": "python3"
  },
  "language_info": {
   "codemirror_mode": {
    "name": "ipython",
    "version": 3
   },
   "file_extension": ".py",
   "mimetype": "text/x-python",
   "name": "python",
   "nbconvert_exporter": "python",
   "pygments_lexer": "ipython3",
   "version": "3.9.7"
  }
 },
 "nbformat": 4,
 "nbformat_minor": 5
}
