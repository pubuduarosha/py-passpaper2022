{
 "cells": [
  {
   "cell_type": "markdown",
   "id": "1a559323",
   "metadata": {},
   "source": [
    "Read the given Q3b.txt file. Extract the ending time of all the examinations and list them. Do not make any changes to the original source file."
   ]
  },
  {
   "cell_type": "code",
   "execution_count": 31,
   "id": "1ccb7a11",
   "metadata": {},
   "outputs": [],
   "source": [
    "import pandas as pd"
   ]
  },
  {
   "cell_type": "code",
   "execution_count": 32,
   "id": "b4681981",
   "metadata": {},
   "outputs": [
    {
     "data": {
      "text/html": [
       "<div>\n",
       "<style scoped>\n",
       "    .dataframe tbody tr th:only-of-type {\n",
       "        vertical-align: middle;\n",
       "    }\n",
       "\n",
       "    .dataframe tbody tr th {\n",
       "        vertical-align: top;\n",
       "    }\n",
       "\n",
       "    .dataframe thead th {\n",
       "        text-align: right;\n",
       "    }\n",
       "</style>\n",
       "<table border=\"1\" class=\"dataframe\">\n",
       "  <thead>\n",
       "    <tr style=\"text-align: right;\">\n",
       "      <th></th>\n",
       "      <th>Date</th>\n",
       "      <th>Course Code</th>\n",
       "      <th>Course Name</th>\n",
       "      <th>Time</th>\n",
       "      <th>Venue</th>\n",
       "    </tr>\n",
       "  </thead>\n",
       "  <tbody>\n",
       "    <tr>\n",
       "      <th>0</th>\n",
       "      <td>16/10/2022</td>\n",
       "      <td>DSA 501 3.0</td>\n",
       "      <td>Mathematics for Data Science and Artificial In...</td>\n",
       "      <td>9.00 am - 12.00 Noon</td>\n",
       "      <td>SMART Classroom</td>\n",
       "    </tr>\n",
       "    <tr>\n",
       "      <th>1</th>\n",
       "      <td>16/10/2022</td>\n",
       "      <td>DSA 502 2.0</td>\n",
       "      <td>Programming for Data Science and Artificial In...</td>\n",
       "      <td>2.00 pm-5.00pm</td>\n",
       "      <td>SMART Classroom</td>\n",
       "    </tr>\n",
       "    <tr>\n",
       "      <th>2</th>\n",
       "      <td>23/10/2022</td>\n",
       "      <td>DSA 503 3.0</td>\n",
       "      <td>Artificial Intelligence: Problem Solving</td>\n",
       "      <td>9.00 am - 12.00 Noon</td>\n",
       "      <td>SMART Classroom</td>\n",
       "    </tr>\n",
       "    <tr>\n",
       "      <th>3</th>\n",
       "      <td>23/10/2022</td>\n",
       "      <td>DSA 504 2.0</td>\n",
       "      <td>Machine Learning I</td>\n",
       "      <td>2.00 pm-4.00pm</td>\n",
       "      <td>SMART Classroom</td>\n",
       "    </tr>\n",
       "    <tr>\n",
       "      <th>4</th>\n",
       "      <td>30/10/2022</td>\n",
       "      <td>DSA 505 3.0</td>\n",
       "      <td>Data Modelling and Management</td>\n",
       "      <td>9.00 am - 12.00 Noon</td>\n",
       "      <td>SMART Classroom</td>\n",
       "    </tr>\n",
       "  </tbody>\n",
       "</table>\n",
       "</div>"
      ],
      "text/plain": [
       "         Date  Course Code                                        Course Name  \\\n",
       "0  16/10/2022  DSA 501 3.0  Mathematics for Data Science and Artificial In...   \n",
       "1  16/10/2022  DSA 502 2.0  Programming for Data Science and Artificial In...   \n",
       "2  23/10/2022  DSA 503 3.0           Artificial Intelligence: Problem Solving   \n",
       "3  23/10/2022  DSA 504 2.0                                 Machine Learning I   \n",
       "4  30/10/2022  DSA 505 3.0                      Data Modelling and Management   \n",
       "\n",
       "                   Time            Venue  \n",
       "0  9.00 am - 12.00 Noon  SMART Classroom  \n",
       "1        2.00 pm-5.00pm  SMART Classroom  \n",
       "2  9.00 am - 12.00 Noon  SMART Classroom  \n",
       "3        2.00 pm-4.00pm  SMART Classroom  \n",
       "4  9.00 am - 12.00 Noon  SMART Classroom  "
      ]
     },
     "execution_count": 32,
     "metadata": {},
     "output_type": "execute_result"
    }
   ],
   "source": [
    "# Read the data from the Q3b.txt file, assuming it's tab-separated\n",
    "df = pd.read_csv('data\\Q3b.txt', sep='\\t')\n",
    "df.head()"
   ]
  },
  {
   "cell_type": "code",
   "execution_count": 33,
   "id": "abae04ee",
   "metadata": {},
   "outputs": [
    {
     "data": {
      "text/plain": [
       "(6, 5)"
      ]
     },
     "execution_count": 33,
     "metadata": {},
     "output_type": "execute_result"
    }
   ],
   "source": [
    "df.shape"
   ]
  },
  {
   "cell_type": "code",
   "execution_count": 34,
   "id": "ddb7846b",
   "metadata": {},
   "outputs": [
    {
     "data": {
      "text/html": [
       "<div>\n",
       "<style scoped>\n",
       "    .dataframe tbody tr th:only-of-type {\n",
       "        vertical-align: middle;\n",
       "    }\n",
       "\n",
       "    .dataframe tbody tr th {\n",
       "        vertical-align: top;\n",
       "    }\n",
       "\n",
       "    .dataframe thead th {\n",
       "        text-align: right;\n",
       "    }\n",
       "</style>\n",
       "<table border=\"1\" class=\"dataframe\">\n",
       "  <thead>\n",
       "    <tr style=\"text-align: right;\">\n",
       "      <th></th>\n",
       "      <th>Date</th>\n",
       "      <th>Course Code</th>\n",
       "      <th>Course Name</th>\n",
       "      <th>Time</th>\n",
       "      <th>Venue</th>\n",
       "    </tr>\n",
       "  </thead>\n",
       "  <tbody>\n",
       "    <tr>\n",
       "      <th>0</th>\n",
       "      <td>16/10/2022</td>\n",
       "      <td>DSA 501 3.0</td>\n",
       "      <td>Mathematics for Data Science and Artificial In...</td>\n",
       "      <td>9.00 am - 12.00 Noon</td>\n",
       "      <td>SMART Classroom</td>\n",
       "    </tr>\n",
       "    <tr>\n",
       "      <th>1</th>\n",
       "      <td>16/10/2022</td>\n",
       "      <td>DSA 502 2.0</td>\n",
       "      <td>Programming for Data Science and Artificial In...</td>\n",
       "      <td>2.00 pm-5.00pm</td>\n",
       "      <td>SMART Classroom</td>\n",
       "    </tr>\n",
       "    <tr>\n",
       "      <th>2</th>\n",
       "      <td>23/10/2022</td>\n",
       "      <td>DSA 503 3.0</td>\n",
       "      <td>Artificial Intelligence: Problem Solving</td>\n",
       "      <td>9.00 am - 12.00 Noon</td>\n",
       "      <td>SMART Classroom</td>\n",
       "    </tr>\n",
       "    <tr>\n",
       "      <th>3</th>\n",
       "      <td>23/10/2022</td>\n",
       "      <td>DSA 504 2.0</td>\n",
       "      <td>Machine Learning I</td>\n",
       "      <td>2.00 pm-4.00pm</td>\n",
       "      <td>SMART Classroom</td>\n",
       "    </tr>\n",
       "    <tr>\n",
       "      <th>4</th>\n",
       "      <td>30/10/2022</td>\n",
       "      <td>DSA 505 3.0</td>\n",
       "      <td>Data Modelling and Management</td>\n",
       "      <td>9.00 am - 12.00 Noon</td>\n",
       "      <td>SMART Classroom</td>\n",
       "    </tr>\n",
       "    <tr>\n",
       "      <th>5</th>\n",
       "      <td>30/10/2022</td>\n",
       "      <td>DSA 506 2.0</td>\n",
       "      <td>Artificial Intelligence: Planning</td>\n",
       "      <td>2.00 pm-4.00pm</td>\n",
       "      <td>SMART Classroom</td>\n",
       "    </tr>\n",
       "  </tbody>\n",
       "</table>\n",
       "</div>"
      ],
      "text/plain": [
       "         Date  Course Code                                        Course Name  \\\n",
       "0  16/10/2022  DSA 501 3.0  Mathematics for Data Science and Artificial In...   \n",
       "1  16/10/2022  DSA 502 2.0  Programming for Data Science and Artificial In...   \n",
       "2  23/10/2022  DSA 503 3.0           Artificial Intelligence: Problem Solving   \n",
       "3  23/10/2022  DSA 504 2.0                                 Machine Learning I   \n",
       "4  30/10/2022  DSA 505 3.0                      Data Modelling and Management   \n",
       "5  30/10/2022  DSA 506 2.0                  Artificial Intelligence: Planning   \n",
       "\n",
       "                   Time            Venue  \n",
       "0  9.00 am - 12.00 Noon  SMART Classroom  \n",
       "1        2.00 pm-5.00pm  SMART Classroom  \n",
       "2  9.00 am - 12.00 Noon  SMART Classroom  \n",
       "3        2.00 pm-4.00pm  SMART Classroom  \n",
       "4  9.00 am - 12.00 Noon  SMART Classroom  \n",
       "5        2.00 pm-4.00pm  SMART Classroom  "
      ]
     },
     "execution_count": 34,
     "metadata": {},
     "output_type": "execute_result"
    }
   ],
   "source": [
    "df.head(6)"
   ]
  },
  {
   "cell_type": "code",
   "execution_count": 35,
   "id": "29b54972",
   "metadata": {},
   "outputs": [
    {
     "name": "stdout",
     "output_type": "stream",
     "text": [
      "['9.00 am ', ' 12.00 Noon']\n",
      "12.00 Noon \n",
      "\n",
      "['2.00 pm', '5.00pm']\n",
      "5.00pm \n",
      "\n",
      "['9.00 am ', ' 12.00 Noon']\n",
      "12.00 Noon \n",
      "\n",
      "['2.00 pm', '4.00pm']\n",
      "4.00pm \n",
      "\n",
      "['9.00 am ', ' 12.00 Noon']\n",
      "12.00 Noon \n",
      "\n",
      "['2.00 pm', '4.00pm']\n",
      "4.00pm \n",
      "\n",
      "\n",
      "\n",
      "['12.00 Noon', '5.00pm', '12.00 Noon', '4.00pm', '12.00 Noon', '4.00pm']\n"
     ]
    }
   ],
   "source": [
    "# Extract the ending times\n",
    "ending_times = []\n",
    "\n",
    "for time in df['Time']:\n",
    "    # Split the time range and extract the ending time (assuming the time format is consistent)\n",
    "    time_parts = time.split('-')\n",
    "    print(time_parts)\n",
    "    ending_time = time_parts[-1].strip()\n",
    "    print(ending_time, \"\\n\" )\n",
    "    ending_times.append(ending_time)\n",
    "    \n",
    "print(\"\\n\")\n",
    "print(ending_times)"
   ]
  },
  {
   "cell_type": "code",
   "execution_count": null,
   "id": "a22dd358",
   "metadata": {},
   "outputs": [],
   "source": []
  },
  {
   "cell_type": "code",
   "execution_count": 36,
   "id": "a940ed93",
   "metadata": {},
   "outputs": [
    {
     "name": "stdout",
     "output_type": "stream",
     "text": [
      "Mathematics for Data Science and Artificial Intelligence: 12.00 Noon\n",
      "Programming for Data Science and Artificial Intelligence: 5.00pm\n",
      "Artificial Intelligence: Problem Solving: 12.00 Noon\n",
      "Machine Learning I: 4.00pm\n",
      "Data Modelling and Management: 12.00 Noon\n",
      "Artificial Intelligence: Planning: 4.00pm\n"
     ]
    }
   ],
   "source": [
    "# List the extracted ending times\n",
    "for exam, ending_time in zip(df['Course Name'], ending_times):\n",
    "    print(f\"{exam}: {ending_time}\")"
   ]
  },
  {
   "cell_type": "markdown",
   "id": "a239ed34",
   "metadata": {},
   "source": [
    "------------------>"
   ]
  },
  {
   "cell_type": "code",
   "execution_count": 37,
   "id": "1c450919",
   "metadata": {},
   "outputs": [
    {
     "name": "stdout",
     "output_type": "stream",
     "text": [
      "(1, 'a')\n",
      "(2, 'b')\n",
      "(3, 'c')\n"
     ]
    }
   ],
   "source": [
    "list1 = [1, 2, 3]\n",
    "list2 = ['a', 'b', 'c']\n",
    "\n",
    "result = zip(list1, list2)\n",
    "# result is an iterator\n",
    "for item in result:\n",
    "    print(item)"
   ]
  },
  {
   "cell_type": "code",
   "execution_count": null,
   "id": "086fbe5d",
   "metadata": {},
   "outputs": [],
   "source": []
  }
 ],
 "metadata": {
  "kernelspec": {
   "display_name": "Python 3 (ipykernel)",
   "language": "python",
   "name": "python3"
  },
  "language_info": {
   "codemirror_mode": {
    "name": "ipython",
    "version": 3
   },
   "file_extension": ".py",
   "mimetype": "text/x-python",
   "name": "python",
   "nbconvert_exporter": "python",
   "pygments_lexer": "ipython3",
   "version": "3.9.7"
  }
 },
 "nbformat": 4,
 "nbformat_minor": 5
}
