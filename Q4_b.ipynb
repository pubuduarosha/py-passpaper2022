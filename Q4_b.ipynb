{
 "cells": [
  {
   "cell_type": "markdown",
   "id": "e7d303e8",
   "metadata": {},
   "source": [
    "Assume that the objective function and the constrains of an optimization problem are defined as follows.\n",
    "\n",
    "Min 3 X1, + 4 X2 + 5 X3\n",
    "\n",
    "2 X1 + 2 X2 + X3 >= 6 \n",
    "\n",
    "X1 + 2 X2 +3 X3 >=  5\n",
    "\n",
    "X1, X2, X3 >= 0\n",
    "\n",
    "Find the optimal values for its decision variables."
   ]
  },
  {
   "cell_type": "code",
   "execution_count": 2,
   "id": "19f16864",
   "metadata": {},
   "outputs": [],
   "source": [
    "import pulp"
   ]
  },
  {
   "cell_type": "code",
   "execution_count": 3,
   "id": "5232281d",
   "metadata": {},
   "outputs": [],
   "source": [
    "# Create a linear programming problem with a Minimization objective\n",
    "lp_problem = pulp.LpProblem(\"Optimization_Problem\", pulp.LpMinimize)"
   ]
  },
  {
   "cell_type": "code",
   "execution_count": 4,
   "id": "fdd06066",
   "metadata": {},
   "outputs": [],
   "source": [
    "# Define decision variables\n",
    "X1 = pulp.LpVariable(\"X1\", lowBound=0)\n",
    "X2 = pulp.LpVariable(\"X2\", lowBound=0)\n",
    "X3 = pulp.LpVariable(\"X3\", lowBound=0)"
   ]
  },
  {
   "cell_type": "code",
   "execution_count": 5,
   "id": "fb20b7fe",
   "metadata": {},
   "outputs": [],
   "source": [
    "# Define the objective function to be minimized\n",
    "objective_function = 3*X1 + 4*X2 + 5*X3\n",
    "lp_problem += objective_function, \"Objective\""
   ]
  },
  {
   "cell_type": "code",
   "execution_count": 6,
   "id": "bccae765",
   "metadata": {},
   "outputs": [],
   "source": [
    "# Define the constraints\n",
    "constraint1 = 2*X1 + 2*X2 + X3 >= 6\n",
    "constraint2 = X1 + 2*X2 + 3*X3 >= 5"
   ]
  },
  {
   "cell_type": "code",
   "execution_count": 7,
   "id": "b7a27723",
   "metadata": {},
   "outputs": [],
   "source": [
    "lp_problem += constraint1, \"Constraint 1\"\n",
    "lp_problem += constraint2, \"Constraint 2\""
   ]
  },
  {
   "cell_type": "code",
   "execution_count": 8,
   "id": "8d732a7f",
   "metadata": {},
   "outputs": [
    {
     "data": {
      "text/plain": [
       "1"
      ]
     },
     "execution_count": 8,
     "metadata": {},
     "output_type": "execute_result"
    }
   ],
   "source": [
    "# Solve the linear programming problem\n",
    "lp_problem.solve()"
   ]
  },
  {
   "cell_type": "code",
   "execution_count": 9,
   "id": "78890b0e",
   "metadata": {},
   "outputs": [],
   "source": [
    "# Get the optimal values of the decision variables\n",
    "optimal_X1 = pulp.value(X1)\n",
    "optimal_X2 = pulp.value(X2)\n",
    "optimal_X3 = pulp.value(X3)"
   ]
  },
  {
   "cell_type": "code",
   "execution_count": 10,
   "id": "72305b34",
   "metadata": {},
   "outputs": [
    {
     "name": "stdout",
     "output_type": "stream",
     "text": [
      "Optimal X1: 1.0\n",
      "Optimal X2: 2.0\n",
      "Optimal X3: 0.0\n",
      "Optimal Objective Value: 11.0\n"
     ]
    }
   ],
   "source": [
    "# Get the optimal objective value\n",
    "optimal_objective_value = pulp.value(lp_problem.objective)\n",
    "\n",
    "# Print the results\n",
    "print(f\"Optimal X1: {optimal_X1}\")\n",
    "print(f\"Optimal X2: {optimal_X2}\")\n",
    "print(f\"Optimal X3: {optimal_X3}\")\n",
    "print(f\"Optimal Objective Value: {optimal_objective_value}\")"
   ]
  },
  {
   "cell_type": "code",
   "execution_count": null,
   "id": "f7f52ef5",
   "metadata": {},
   "outputs": [],
   "source": []
  }
 ],
 "metadata": {
  "kernelspec": {
   "display_name": "Python 3 (ipykernel)",
   "language": "python",
   "name": "python3"
  },
  "language_info": {
   "codemirror_mode": {
    "name": "ipython",
    "version": 3
   },
   "file_extension": ".py",
   "mimetype": "text/x-python",
   "name": "python",
   "nbconvert_exporter": "python",
   "pygments_lexer": "ipython3",
   "version": "3.9.7"
  }
 },
 "nbformat": 4,
 "nbformat_minor": 5
}
