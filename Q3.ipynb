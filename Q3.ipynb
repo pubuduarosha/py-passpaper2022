{
 "cells": [
  {
   "cell_type": "markdown",
   "id": "801ad452",
   "metadata": {},
   "source": [
    "(a) Following dataset is given in the Q3a.csv file.\n",
    "\n",
    "Without making any change to the original source (given file), filling the missing values programmatically as follows.\n",
    "(i) Replace the missing values in DSA 501 3.0 column by its mean marks.\n",
    "(ii) Replace the missing values in DSA 503 3.0 column by the mean marks of the respective row.\n",
    "(iii) Add a new column name \"avg\" to the above dataset. Compute the average marks of each student and add them to the \"avg\" column.\n",
    "(IV) Find and display the mean, median and the standard deviation of each course unit.\n"
   ]
  },
  {
   "cell_type": "code",
   "execution_count": 11,
   "id": "7793a6da",
   "metadata": {},
   "outputs": [],
   "source": [
    "import pandas as pd"
   ]
  },
  {
   "cell_type": "code",
   "execution_count": 12,
   "id": "7e715075",
   "metadata": {},
   "outputs": [],
   "source": [
    "df = pd.read_csv(\"data/Q3a.csv\")"
   ]
  },
  {
   "cell_type": "code",
   "execution_count": 13,
   "id": "04aa3347",
   "metadata": {},
   "outputs": [
    {
     "data": {
      "text/html": [
       "<div>\n",
       "<style scoped>\n",
       "    .dataframe tbody tr th:only-of-type {\n",
       "        vertical-align: middle;\n",
       "    }\n",
       "\n",
       "    .dataframe tbody tr th {\n",
       "        vertical-align: top;\n",
       "    }\n",
       "\n",
       "    .dataframe thead th {\n",
       "        text-align: right;\n",
       "    }\n",
       "</style>\n",
       "<table border=\"1\" class=\"dataframe\">\n",
       "  <thead>\n",
       "    <tr style=\"text-align: right;\">\n",
       "      <th></th>\n",
       "      <th>IndexNo</th>\n",
       "      <th>DSA 501 3.0</th>\n",
       "      <th>DSA 502 2.0</th>\n",
       "      <th>DSA 503 3.0</th>\n",
       "    </tr>\n",
       "  </thead>\n",
       "  <tbody>\n",
       "    <tr>\n",
       "      <th>0</th>\n",
       "      <td>GS/DSA/001</td>\n",
       "      <td>35.0</td>\n",
       "      <td>97</td>\n",
       "      <td>NaN</td>\n",
       "    </tr>\n",
       "    <tr>\n",
       "      <th>1</th>\n",
       "      <td>GS/DSA/002</td>\n",
       "      <td>NaN</td>\n",
       "      <td>32</td>\n",
       "      <td>77.0</td>\n",
       "    </tr>\n",
       "    <tr>\n",
       "      <th>2</th>\n",
       "      <td>GS/DSA/003</td>\n",
       "      <td>73.0</td>\n",
       "      <td>62</td>\n",
       "      <td>NaN</td>\n",
       "    </tr>\n",
       "    <tr>\n",
       "      <th>3</th>\n",
       "      <td>GS/DSA/004</td>\n",
       "      <td>82.0</td>\n",
       "      <td>81</td>\n",
       "      <td>67.0</td>\n",
       "    </tr>\n",
       "  </tbody>\n",
       "</table>\n",
       "</div>"
      ],
      "text/plain": [
       "      IndexNo  DSA 501 3.0  DSA 502 2.0  DSA 503 3.0\n",
       "0  GS/DSA/001         35.0           97          NaN\n",
       "1  GS/DSA/002          NaN           32         77.0\n",
       "2  GS/DSA/003         73.0           62          NaN\n",
       "3  GS/DSA/004         82.0           81         67.0"
      ]
     },
     "execution_count": 13,
     "metadata": {},
     "output_type": "execute_result"
    }
   ],
   "source": [
    "df.head()"
   ]
  },
  {
   "cell_type": "code",
   "execution_count": 14,
   "id": "849e5810",
   "metadata": {},
   "outputs": [
    {
     "data": {
      "text/plain": [
       "(4, 4)"
      ]
     },
     "execution_count": 14,
     "metadata": {},
     "output_type": "execute_result"
    }
   ],
   "source": [
    "df.shape"
   ]
  },
  {
   "cell_type": "code",
   "execution_count": 15,
   "id": "5fde6198",
   "metadata": {},
   "outputs": [
    {
     "data": {
      "text/html": [
       "<div>\n",
       "<style scoped>\n",
       "    .dataframe tbody tr th:only-of-type {\n",
       "        vertical-align: middle;\n",
       "    }\n",
       "\n",
       "    .dataframe tbody tr th {\n",
       "        vertical-align: top;\n",
       "    }\n",
       "\n",
       "    .dataframe thead th {\n",
       "        text-align: right;\n",
       "    }\n",
       "</style>\n",
       "<table border=\"1\" class=\"dataframe\">\n",
       "  <thead>\n",
       "    <tr style=\"text-align: right;\">\n",
       "      <th></th>\n",
       "      <th>IndexNo</th>\n",
       "      <th>DSA 501 3.0</th>\n",
       "      <th>DSA 502 2.0</th>\n",
       "      <th>DSA 503 3.0</th>\n",
       "    </tr>\n",
       "  </thead>\n",
       "  <tbody>\n",
       "    <tr>\n",
       "      <th>0</th>\n",
       "      <td>GS/DSA/001</td>\n",
       "      <td>35.000000</td>\n",
       "      <td>97</td>\n",
       "      <td>NaN</td>\n",
       "    </tr>\n",
       "    <tr>\n",
       "      <th>1</th>\n",
       "      <td>GS/DSA/002</td>\n",
       "      <td>63.333333</td>\n",
       "      <td>32</td>\n",
       "      <td>77.0</td>\n",
       "    </tr>\n",
       "    <tr>\n",
       "      <th>2</th>\n",
       "      <td>GS/DSA/003</td>\n",
       "      <td>73.000000</td>\n",
       "      <td>62</td>\n",
       "      <td>NaN</td>\n",
       "    </tr>\n",
       "    <tr>\n",
       "      <th>3</th>\n",
       "      <td>GS/DSA/004</td>\n",
       "      <td>82.000000</td>\n",
       "      <td>81</td>\n",
       "      <td>67.0</td>\n",
       "    </tr>\n",
       "  </tbody>\n",
       "</table>\n",
       "</div>"
      ],
      "text/plain": [
       "      IndexNo  DSA 501 3.0  DSA 502 2.0  DSA 503 3.0\n",
       "0  GS/DSA/001    35.000000           97          NaN\n",
       "1  GS/DSA/002    63.333333           32         77.0\n",
       "2  GS/DSA/003    73.000000           62          NaN\n",
       "3  GS/DSA/004    82.000000           81         67.0"
      ]
     },
     "execution_count": 15,
     "metadata": {},
     "output_type": "execute_result"
    }
   ],
   "source": [
    "#Replace the missing values in DSA 501 3.0 column by its mean marks.\n",
    "dsa_501_mean = df['DSA 501 3.0'].mean()\n",
    "df['DSA 501 3.0'].fillna(dsa_501_mean, inplace=True)\n",
    "df.head()"
   ]
  },
  {
   "cell_type": "code",
   "execution_count": 16,
   "id": "8993236e",
   "metadata": {},
   "outputs": [
    {
     "name": "stderr",
     "output_type": "stream",
     "text": [
      "C:\\Users\\ACER\\AppData\\Local\\Temp/ipykernel_12572/2087323083.py:2: FutureWarning: Dropping of nuisance columns in DataFrame reductions (with 'numeric_only=None') is deprecated; in a future version this will raise TypeError.  Select only valid columns before calling the reduction.\n",
      "  df['DSA 503 3.0'].fillna(df.mean(axis=1), inplace=True)\n"
     ]
    },
    {
     "data": {
      "text/html": [
       "<div>\n",
       "<style scoped>\n",
       "    .dataframe tbody tr th:only-of-type {\n",
       "        vertical-align: middle;\n",
       "    }\n",
       "\n",
       "    .dataframe tbody tr th {\n",
       "        vertical-align: top;\n",
       "    }\n",
       "\n",
       "    .dataframe thead th {\n",
       "        text-align: right;\n",
       "    }\n",
       "</style>\n",
       "<table border=\"1\" class=\"dataframe\">\n",
       "  <thead>\n",
       "    <tr style=\"text-align: right;\">\n",
       "      <th></th>\n",
       "      <th>IndexNo</th>\n",
       "      <th>DSA 501 3.0</th>\n",
       "      <th>DSA 502 2.0</th>\n",
       "      <th>DSA 503 3.0</th>\n",
       "    </tr>\n",
       "  </thead>\n",
       "  <tbody>\n",
       "    <tr>\n",
       "      <th>0</th>\n",
       "      <td>GS/DSA/001</td>\n",
       "      <td>35.000000</td>\n",
       "      <td>97</td>\n",
       "      <td>66.0</td>\n",
       "    </tr>\n",
       "    <tr>\n",
       "      <th>1</th>\n",
       "      <td>GS/DSA/002</td>\n",
       "      <td>63.333333</td>\n",
       "      <td>32</td>\n",
       "      <td>77.0</td>\n",
       "    </tr>\n",
       "    <tr>\n",
       "      <th>2</th>\n",
       "      <td>GS/DSA/003</td>\n",
       "      <td>73.000000</td>\n",
       "      <td>62</td>\n",
       "      <td>67.5</td>\n",
       "    </tr>\n",
       "    <tr>\n",
       "      <th>3</th>\n",
       "      <td>GS/DSA/004</td>\n",
       "      <td>82.000000</td>\n",
       "      <td>81</td>\n",
       "      <td>67.0</td>\n",
       "    </tr>\n",
       "  </tbody>\n",
       "</table>\n",
       "</div>"
      ],
      "text/plain": [
       "      IndexNo  DSA 501 3.0  DSA 502 2.0  DSA 503 3.0\n",
       "0  GS/DSA/001    35.000000           97         66.0\n",
       "1  GS/DSA/002    63.333333           32         77.0\n",
       "2  GS/DSA/003    73.000000           62         67.5\n",
       "3  GS/DSA/004    82.000000           81         67.0"
      ]
     },
     "execution_count": 16,
     "metadata": {},
     "output_type": "execute_result"
    }
   ],
   "source": [
    "#Replace the missing values in DSA 503 3.0 column by the mean marks of the respective row.\n",
    "df['DSA 503 3.0'].fillna(df.mean(axis=1), inplace=True)\n",
    "df.head()"
   ]
  },
  {
   "cell_type": "code",
   "execution_count": 18,
   "id": "0f9c4db4",
   "metadata": {},
   "outputs": [
    {
     "name": "stderr",
     "output_type": "stream",
     "text": [
      "C:\\Users\\ACER\\AppData\\Local\\Temp/ipykernel_12572/951405444.py:2: FutureWarning: Dropping of nuisance columns in DataFrame reductions (with 'numeric_only=None') is deprecated; in a future version this will raise TypeError.  Select only valid columns before calling the reduction.\n",
      "  df['avg'] = df.mean(axis=1)\n"
     ]
    },
    {
     "data": {
      "text/html": [
       "<div>\n",
       "<style scoped>\n",
       "    .dataframe tbody tr th:only-of-type {\n",
       "        vertical-align: middle;\n",
       "    }\n",
       "\n",
       "    .dataframe tbody tr th {\n",
       "        vertical-align: top;\n",
       "    }\n",
       "\n",
       "    .dataframe thead th {\n",
       "        text-align: right;\n",
       "    }\n",
       "</style>\n",
       "<table border=\"1\" class=\"dataframe\">\n",
       "  <thead>\n",
       "    <tr style=\"text-align: right;\">\n",
       "      <th></th>\n",
       "      <th>IndexNo</th>\n",
       "      <th>DSA 501 3.0</th>\n",
       "      <th>DSA 502 2.0</th>\n",
       "      <th>DSA 503 3.0</th>\n",
       "      <th>avg</th>\n",
       "    </tr>\n",
       "  </thead>\n",
       "  <tbody>\n",
       "    <tr>\n",
       "      <th>0</th>\n",
       "      <td>GS/DSA/001</td>\n",
       "      <td>35.000000</td>\n",
       "      <td>97</td>\n",
       "      <td>66.0</td>\n",
       "      <td>66.000000</td>\n",
       "    </tr>\n",
       "    <tr>\n",
       "      <th>1</th>\n",
       "      <td>GS/DSA/002</td>\n",
       "      <td>63.333333</td>\n",
       "      <td>32</td>\n",
       "      <td>77.0</td>\n",
       "      <td>57.444444</td>\n",
       "    </tr>\n",
       "    <tr>\n",
       "      <th>2</th>\n",
       "      <td>GS/DSA/003</td>\n",
       "      <td>73.000000</td>\n",
       "      <td>62</td>\n",
       "      <td>67.5</td>\n",
       "      <td>67.500000</td>\n",
       "    </tr>\n",
       "    <tr>\n",
       "      <th>3</th>\n",
       "      <td>GS/DSA/004</td>\n",
       "      <td>82.000000</td>\n",
       "      <td>81</td>\n",
       "      <td>67.0</td>\n",
       "      <td>76.666667</td>\n",
       "    </tr>\n",
       "  </tbody>\n",
       "</table>\n",
       "</div>"
      ],
      "text/plain": [
       "      IndexNo  DSA 501 3.0  DSA 502 2.0  DSA 503 3.0        avg\n",
       "0  GS/DSA/001    35.000000           97         66.0  66.000000\n",
       "1  GS/DSA/002    63.333333           32         77.0  57.444444\n",
       "2  GS/DSA/003    73.000000           62         67.5  67.500000\n",
       "3  GS/DSA/004    82.000000           81         67.0  76.666667"
      ]
     },
     "execution_count": 18,
     "metadata": {},
     "output_type": "execute_result"
    }
   ],
   "source": [
    "#Add a new column named \"avg\" to the dataset and compute the average marks of each student.\n",
    "df['avg'] = df.mean(axis=1)\n",
    "df.head()"
   ]
  },
  {
   "cell_type": "code",
   "execution_count": null,
   "id": "a2517101",
   "metadata": {},
   "outputs": [],
   "source": [
    "#Find and display the mean, median, and standard deviation of each course unit.\n",
    "mean_values = df.mean()\n",
    "median_values = df.median()\n",
    "std_dev_values = df.std()\n",
    "\n",
    "print(\"Mean values:\",  )"
   ]
  }
 ],
 "metadata": {
  "kernelspec": {
   "display_name": "Python 3 (ipykernel)",
   "language": "python",
   "name": "python3"
  },
  "language_info": {
   "codemirror_mode": {
    "name": "ipython",
    "version": 3
   },
   "file_extension": ".py",
   "mimetype": "text/x-python",
   "name": "python",
   "nbconvert_exporter": "python",
   "pygments_lexer": "ipython3",
   "version": "3.9.7"
  }
 },
 "nbformat": 4,
 "nbformat_minor": 5
}
