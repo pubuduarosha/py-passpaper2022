{
 "cells": [
  {
   "cell_type": "markdown",
   "id": "fc59b8b3",
   "metadata": {},
   "source": [
    "(a) Following dataset is given in the Q3a.csv file.\n",
    "\n",
    "Without making any change to the original source (given file), filling the missing values programmatically as follows.\n",
    "(i) Replace the missing values in DSA 501 3.0 column by its mean marks.\n",
    "(ii) Replace the missing values in DSA 503 3.0 column by the mean marks of the respective row.\n",
    "(iii) Add a new column name \"avg\" to the above dataset. Compute the average marks of each student and add them to the \"avg\" column.\n",
    "(IV) Find and display the mean, median and the standard deviation of each course unit.\n"
   ]
  },
  {
   "cell_type": "code",
   "execution_count": 11,
   "id": "d3801408",
   "metadata": {},
   "outputs": [],
   "source": [
    "import pandas as pd"
   ]
  },
  {
   "cell_type": "code",
   "execution_count": 12,
   "id": "1cf39f84",
   "metadata": {},
   "outputs": [],
   "source": [
    "df = pd.read_csv(\"data/Q3a.csv\")"
   ]
  },
  {
   "cell_type": "code",
   "execution_count": 13,
   "id": "f65762c9",
   "metadata": {},
   "outputs": [
    {
     "data": {
      "text/html": [
       "<div>\n",
       "<style scoped>\n",
       "    .dataframe tbody tr th:only-of-type {\n",
       "        vertical-align: middle;\n",
       "    }\n",
       "\n",
       "    .dataframe tbody tr th {\n",
       "        vertical-align: top;\n",
       "    }\n",
       "\n",
       "    .dataframe thead th {\n",
       "        text-align: right;\n",
       "    }\n",
       "</style>\n",
       "<table border=\"1\" class=\"dataframe\">\n",
       "  <thead>\n",
       "    <tr style=\"text-align: right;\">\n",
       "      <th></th>\n",
       "      <th>IndexNo</th>\n",
       "      <th>DSA 501 3.0</th>\n",
       "      <th>DSA 502 2.0</th>\n",
       "      <th>DSA 503 3.0</th>\n",
       "    </tr>\n",
       "  </thead>\n",
       "  <tbody>\n",
       "    <tr>\n",
       "      <th>0</th>\n",
       "      <td>GS/DSA/001</td>\n",
       "      <td>35.0</td>\n",
       "      <td>97</td>\n",
       "      <td>NaN</td>\n",
       "    </tr>\n",
       "    <tr>\n",
       "      <th>1</th>\n",
       "      <td>GS/DSA/002</td>\n",
       "      <td>NaN</td>\n",
       "      <td>32</td>\n",
       "      <td>77.0</td>\n",
       "    </tr>\n",
       "    <tr>\n",
       "      <th>2</th>\n",
       "      <td>GS/DSA/003</td>\n",
       "      <td>73.0</td>\n",
       "      <td>62</td>\n",
       "      <td>NaN</td>\n",
       "    </tr>\n",
       "    <tr>\n",
       "      <th>3</th>\n",
       "      <td>GS/DSA/004</td>\n",
       "      <td>82.0</td>\n",
       "      <td>81</td>\n",
       "      <td>67.0</td>\n",
       "    </tr>\n",
       "  </tbody>\n",
       "</table>\n",
       "</div>"
      ],
      "text/plain": [
       "      IndexNo  DSA 501 3.0  DSA 502 2.0  DSA 503 3.0\n",
       "0  GS/DSA/001         35.0           97          NaN\n",
       "1  GS/DSA/002          NaN           32         77.0\n",
       "2  GS/DSA/003         73.0           62          NaN\n",
       "3  GS/DSA/004         82.0           81         67.0"
      ]
     },
     "execution_count": 13,
     "metadata": {},
     "output_type": "execute_result"
    }
   ],
   "source": [
    "df.head()"
   ]
  },
  {
   "cell_type": "code",
   "execution_count": 14,
   "id": "439ab728",
   "metadata": {},
   "outputs": [
    {
     "data": {
      "text/plain": [
       "(4, 4)"
      ]
     },
     "execution_count": 14,
     "metadata": {},
     "output_type": "execute_result"
    }
   ],
   "source": [
    "df.shape"
   ]
  },
  {
   "cell_type": "code",
   "execution_count": 15,
   "id": "2971f5cc",
   "metadata": {},
   "outputs": [
    {
     "data": {
      "text/html": [
       "<div>\n",
       "<style scoped>\n",
       "    .dataframe tbody tr th:only-of-type {\n",
       "        vertical-align: middle;\n",
       "    }\n",
       "\n",
       "    .dataframe tbody tr th {\n",
       "        vertical-align: top;\n",
       "    }\n",
       "\n",
       "    .dataframe thead th {\n",
       "        text-align: right;\n",
       "    }\n",
       "</style>\n",
       "<table border=\"1\" class=\"dataframe\">\n",
       "  <thead>\n",
       "    <tr style=\"text-align: right;\">\n",
       "      <th></th>\n",
       "      <th>IndexNo</th>\n",
       "      <th>DSA 501 3.0</th>\n",
       "      <th>DSA 502 2.0</th>\n",
       "      <th>DSA 503 3.0</th>\n",
       "    </tr>\n",
       "  </thead>\n",
       "  <tbody>\n",
       "    <tr>\n",
       "      <th>0</th>\n",
       "      <td>GS/DSA/001</td>\n",
       "      <td>35.000000</td>\n",
       "      <td>97</td>\n",
       "      <td>NaN</td>\n",
       "    </tr>\n",
       "    <tr>\n",
       "      <th>1</th>\n",
       "      <td>GS/DSA/002</td>\n",
       "      <td>63.333333</td>\n",
       "      <td>32</td>\n",
       "      <td>77.0</td>\n",
       "    </tr>\n",
       "    <tr>\n",
       "      <th>2</th>\n",
       "      <td>GS/DSA/003</td>\n",
       "      <td>73.000000</td>\n",
       "      <td>62</td>\n",
       "      <td>NaN</td>\n",
       "    </tr>\n",
       "    <tr>\n",
       "      <th>3</th>\n",
       "      <td>GS/DSA/004</td>\n",
       "      <td>82.000000</td>\n",
       "      <td>81</td>\n",
       "      <td>67.0</td>\n",
       "    </tr>\n",
       "  </tbody>\n",
       "</table>\n",
       "</div>"
      ],
      "text/plain": [
       "      IndexNo  DSA 501 3.0  DSA 502 2.0  DSA 503 3.0\n",
       "0  GS/DSA/001    35.000000           97          NaN\n",
       "1  GS/DSA/002    63.333333           32         77.0\n",
       "2  GS/DSA/003    73.000000           62          NaN\n",
       "3  GS/DSA/004    82.000000           81         67.0"
      ]
     },
     "execution_count": 15,
     "metadata": {},
     "output_type": "execute_result"
    }
   ],
   "source": [
    "#Replace the missing values in DSA 501 3.0 column by its mean marks.\n",
    "dsa_501_mean = df['DSA 501 3.0'].mean()\n",
    "df['DSA 501 3.0'].fillna(dsa_501_mean, inplace=True)\n",
    "df.head()"
   ]
  },
  {
   "cell_type": "code",
   "execution_count": 19,
   "id": "c21136e7",
   "metadata": {
    "scrolled": true
   },
   "outputs": [
    {
     "name": "stderr",
     "output_type": "stream",
     "text": [
      "C:\\Users\\ACER\\AppData\\Local\\Temp/ipykernel_12572/2087323083.py:2: FutureWarning: Dropping of nuisance columns in DataFrame reductions (with 'numeric_only=None') is deprecated; in a future version this will raise TypeError.  Select only valid columns before calling the reduction.\n",
      "  df['DSA 503 3.0'].fillna(df.mean(axis=1), inplace=True)\n"
     ]
    },
    {
     "data": {
      "text/html": [
       "<div>\n",
       "<style scoped>\n",
       "    .dataframe tbody tr th:only-of-type {\n",
       "        vertical-align: middle;\n",
       "    }\n",
       "\n",
       "    .dataframe tbody tr th {\n",
       "        vertical-align: top;\n",
       "    }\n",
       "\n",
       "    .dataframe thead th {\n",
       "        text-align: right;\n",
       "    }\n",
       "</style>\n",
       "<table border=\"1\" class=\"dataframe\">\n",
       "  <thead>\n",
       "    <tr style=\"text-align: right;\">\n",
       "      <th></th>\n",
       "      <th>IndexNo</th>\n",
       "      <th>DSA 501 3.0</th>\n",
       "      <th>DSA 502 2.0</th>\n",
       "      <th>DSA 503 3.0</th>\n",
       "      <th>avg</th>\n",
       "    </tr>\n",
       "  </thead>\n",
       "  <tbody>\n",
       "    <tr>\n",
       "      <th>0</th>\n",
       "      <td>GS/DSA/001</td>\n",
       "      <td>35.000000</td>\n",
       "      <td>97</td>\n",
       "      <td>66.0</td>\n",
       "      <td>66.000000</td>\n",
       "    </tr>\n",
       "    <tr>\n",
       "      <th>1</th>\n",
       "      <td>GS/DSA/002</td>\n",
       "      <td>63.333333</td>\n",
       "      <td>32</td>\n",
       "      <td>77.0</td>\n",
       "      <td>57.444444</td>\n",
       "    </tr>\n",
       "    <tr>\n",
       "      <th>2</th>\n",
       "      <td>GS/DSA/003</td>\n",
       "      <td>73.000000</td>\n",
       "      <td>62</td>\n",
       "      <td>67.5</td>\n",
       "      <td>67.500000</td>\n",
       "    </tr>\n",
       "    <tr>\n",
       "      <th>3</th>\n",
       "      <td>GS/DSA/004</td>\n",
       "      <td>82.000000</td>\n",
       "      <td>81</td>\n",
       "      <td>67.0</td>\n",
       "      <td>76.666667</td>\n",
       "    </tr>\n",
       "  </tbody>\n",
       "</table>\n",
       "</div>"
      ],
      "text/plain": [
       "      IndexNo  DSA 501 3.0  DSA 502 2.0  DSA 503 3.0        avg\n",
       "0  GS/DSA/001    35.000000           97         66.0  66.000000\n",
       "1  GS/DSA/002    63.333333           32         77.0  57.444444\n",
       "2  GS/DSA/003    73.000000           62         67.5  67.500000\n",
       "3  GS/DSA/004    82.000000           81         67.0  76.666667"
      ]
     },
     "execution_count": 19,
     "metadata": {},
     "output_type": "execute_result"
    }
   ],
   "source": [
    "#Replace the missing values in DSA 503 3.0 column by the mean marks of the respective row.\n",
    "df['DSA 503 3.0'].fillna(df.mean(axis=1), inplace=True)\n",
    "df.head()"
   ]
  },
  {
   "cell_type": "code",
   "execution_count": 18,
   "id": "8f4ecd2b",
   "metadata": {},
   "outputs": [
    {
     "name": "stderr",
     "output_type": "stream",
     "text": [
      "C:\\Users\\ACER\\AppData\\Local\\Temp/ipykernel_12572/951405444.py:2: FutureWarning: Dropping of nuisance columns in DataFrame reductions (with 'numeric_only=None') is deprecated; in a future version this will raise TypeError.  Select only valid columns before calling the reduction.\n",
      "  df['avg'] = df.mean(axis=1)\n"
     ]
    },
    {
     "data": {
      "text/html": [
       "<div>\n",
       "<style scoped>\n",
       "    .dataframe tbody tr th:only-of-type {\n",
       "        vertical-align: middle;\n",
       "    }\n",
       "\n",
       "    .dataframe tbody tr th {\n",
       "        vertical-align: top;\n",
       "    }\n",
       "\n",
       "    .dataframe thead th {\n",
       "        text-align: right;\n",
       "    }\n",
       "</style>\n",
       "<table border=\"1\" class=\"dataframe\">\n",
       "  <thead>\n",
       "    <tr style=\"text-align: right;\">\n",
       "      <th></th>\n",
       "      <th>IndexNo</th>\n",
       "      <th>DSA 501 3.0</th>\n",
       "      <th>DSA 502 2.0</th>\n",
       "      <th>DSA 503 3.0</th>\n",
       "      <th>avg</th>\n",
       "    </tr>\n",
       "  </thead>\n",
       "  <tbody>\n",
       "    <tr>\n",
       "      <th>0</th>\n",
       "      <td>GS/DSA/001</td>\n",
       "      <td>35.000000</td>\n",
       "      <td>97</td>\n",
       "      <td>66.0</td>\n",
       "      <td>66.000000</td>\n",
       "    </tr>\n",
       "    <tr>\n",
       "      <th>1</th>\n",
       "      <td>GS/DSA/002</td>\n",
       "      <td>63.333333</td>\n",
       "      <td>32</td>\n",
       "      <td>77.0</td>\n",
       "      <td>57.444444</td>\n",
       "    </tr>\n",
       "    <tr>\n",
       "      <th>2</th>\n",
       "      <td>GS/DSA/003</td>\n",
       "      <td>73.000000</td>\n",
       "      <td>62</td>\n",
       "      <td>67.5</td>\n",
       "      <td>67.500000</td>\n",
       "    </tr>\n",
       "    <tr>\n",
       "      <th>3</th>\n",
       "      <td>GS/DSA/004</td>\n",
       "      <td>82.000000</td>\n",
       "      <td>81</td>\n",
       "      <td>67.0</td>\n",
       "      <td>76.666667</td>\n",
       "    </tr>\n",
       "  </tbody>\n",
       "</table>\n",
       "</div>"
      ],
      "text/plain": [
       "      IndexNo  DSA 501 3.0  DSA 502 2.0  DSA 503 3.0        avg\n",
       "0  GS/DSA/001    35.000000           97         66.0  66.000000\n",
       "1  GS/DSA/002    63.333333           32         77.0  57.444444\n",
       "2  GS/DSA/003    73.000000           62         67.5  67.500000\n",
       "3  GS/DSA/004    82.000000           81         67.0  76.666667"
      ]
     },
     "execution_count": 18,
     "metadata": {},
     "output_type": "execute_result"
    }
   ],
   "source": [
    "#Add a new column named \"avg\" to the dataset and compute the average marks of each student.\n",
    "df['avg'] = df.mean(axis=1)\n",
    "df.head()"
   ]
  },
  {
   "cell_type": "code",
   "execution_count": 22,
   "id": "5fc43b9e",
   "metadata": {},
   "outputs": [
    {
     "name": "stdout",
     "output_type": "stream",
     "text": [
      "Mean values:\n",
      "DSA 501 3.0    63.333333\n",
      "DSA 502 2.0    68.000000\n",
      "DSA 503 3.0    69.375000\n",
      "avg            66.902778\n",
      "dtype: float64\n",
      "\n",
      "Median values:\n",
      "DSA 501 3.0    68.166667\n",
      "DSA 502 2.0    71.500000\n",
      "DSA 503 3.0    67.250000\n",
      "avg            66.750000\n",
      "dtype: float64\n",
      "\n",
      "Standard Deviation values:\n",
      "DSA 501 3.0    20.368821\n",
      "DSA 502 2.0    27.940413\n",
      "DSA 503 3.0     5.121442\n",
      "avg             7.873273\n",
      "dtype: float64\n"
     ]
    },
    {
     "name": "stderr",
     "output_type": "stream",
     "text": [
      "C:\\Users\\ACER\\AppData\\Local\\Temp/ipykernel_12572/1370902496.py:2: FutureWarning: Dropping of nuisance columns in DataFrame reductions (with 'numeric_only=None') is deprecated; in a future version this will raise TypeError.  Select only valid columns before calling the reduction.\n",
      "  mean_values = df.mean()\n",
      "C:\\Users\\ACER\\AppData\\Local\\Temp/ipykernel_12572/1370902496.py:3: FutureWarning: Dropping of nuisance columns in DataFrame reductions (with 'numeric_only=None') is deprecated; in a future version this will raise TypeError.  Select only valid columns before calling the reduction.\n",
      "  median_values = df.median()\n",
      "C:\\Users\\ACER\\AppData\\Local\\Temp/ipykernel_12572/1370902496.py:4: FutureWarning: Dropping of nuisance columns in DataFrame reductions (with 'numeric_only=None') is deprecated; in a future version this will raise TypeError.  Select only valid columns before calling the reduction.\n",
      "  std_dev_values = df.std()\n"
     ]
    }
   ],
   "source": [
    "#Find and display the mean, median, and standard deviation of each course unit.\n",
    "mean_values = df.mean()\n",
    "median_values = df.median()\n",
    "std_dev_values = df.std()\n",
    "\n",
    "print(\"Mean values:\")\n",
    "print(mean_values)\n",
    "\n",
    "print(\"\\nMedian values:\")\n",
    "print(median_values)\n",
    "\n",
    "print(\"\\nStandard Deviation values:\")\n",
    "print(std_dev_values)"
   ]
  },
  {
   "cell_type": "code",
   "execution_count": 23,
   "id": "f1fcbb42",
   "metadata": {},
   "outputs": [],
   "source": [
    "#save the modified dataframe to a new CSV file if needed\n",
    "df.to_csv('Q3a_modified.csv', index=False)"
   ]
  },
  {
   "cell_type": "code",
   "execution_count": null,
   "id": "78be06c7",
   "metadata": {},
   "outputs": [],
   "source": []
  }
 ],
 "metadata": {
  "kernelspec": {
   "display_name": "Python 3 (ipykernel)",
   "language": "python",
   "name": "python3"
  },
  "language_info": {
   "codemirror_mode": {
    "name": "ipython",
    "version": 3
   },
   "file_extension": ".py",
   "mimetype": "text/x-python",
   "name": "python",
   "nbconvert_exporter": "python",
   "pygments_lexer": "ipython3",
   "version": "3.9.7"
  }
 },
 "nbformat": 4,
 "nbformat_minor": 5
}
